{
 "cells": [
  {
   "cell_type": "markdown",
   "metadata": {},
   "source": [
    "#Where are we: Have we seen a DFG flip?"
   ]
  },
  {
   "cell_type": "markdown",
   "metadata": {},
   "source": [
    "There are a few things to look at here. Mostly we are interested in making sure we are actually analyzing meaningful things in our kinase simulations so that we can drive a transition along that coordinate. The main things to investigate along these lines are:\n",
    " - Is the DFG dihedral we are using misleading?\n",
    " - How informative are the dihedrals Josh found in analyzing ensembler started models?\n",
    " - Are the reaction coordinates of this paper useful to look at? http://www.ncbi.nlm.nih.gov/pubmed/25839999\n",
    " - Can we use this ipynb embbeded structure viewer to useful confirm our analysis: https://github.com/arose/nglview\n",
    " - Are the KER salt bridge distances actually useful distances in this context?\n",
    " - I also want to use snippets from David's new notebook to help investigate these things: https://github.com/choderalab/octomore/blob/master/11400-run24.ipynb"
   ]
  },
  {
   "cell_type": "markdown",
   "metadata": {},
   "source": [
    "##Section 1: The current DFG dihedral and Src sims (project 11401)"
   ]
  },
  {
   "cell_type": "markdown",
   "metadata": {},
   "source": [
    "Here we are just going load in already saved dihedrals for separated runs.\n",
    "Also note this needs to be run on the cluster. Checkout this discussion for how to get ipython notebooks to work on the cluster: https://github.com/cBio/cbio-cluster/issues/334#issuecomment-151602300\n",
    "\n",
    "Also note I've just dumped all the code here, though I'm also in the process of cleaning it up and migrating it\n",
    "to the 'kinalysis' repository."
   ]
  },
  {
   "cell_type": "code",
   "execution_count": null,
   "metadata": {
    "collapsed": true
   },
   "outputs": [],
   "source": [
    "import matplotlib\n",
    "matplotlib.use('Agg')\n",
    "\n",
    "import mdtraj as md\n",
    "import matplotlib.pyplot as plt\n",
    "import seaborn as sns\n",
    "import numpy as np\n",
    "\n",
    "from msmbuilder import dataset"
   ]
  },
  {
   "cell_type": "code",
   "execution_count": null,
   "metadata": {
    "collapsed": true
   },
   "outputs": [],
   "source": [
    "\n",
    "# load clone0 of each trajectory\n",
    "\n",
    "Abl_trajectories_0 = dataset.MDTrajDataset(\"/cbio/jclab/projects/fah/fah-data/munged2/no-solvent/11400/*clone0.h5\")\n",
    "Src_trajectories_0 = dataset.MDTrajDataset(\"/cbio/jclab/projects/fah/fah-data/munged2/no-solvent/11401/*clone0.h5\")\n"
   ]
  },
  {
   "cell_type": "code",
   "execution_count": null,
   "metadata": {
    "collapsed": true
   },
   "outputs": [],
   "source": [
    "# define DFG dihedral (this is from Roux umbrella sampling paper and are AlaCbeta, AlaCalpha, AspCalpha, AspCgamma)\n",
    "\n",
    "Abl_DFG = [2257,2255,2265,2270]\n",
    "Src_DFG = [2190,2188,2198,2203]\n",
    "\n",
    "Abl_runs = len(Abl_trajectories_0)\n",
    "Src_runs = len(Src_trajectories_0)\n",
    "\n",
    "Abl_project = 11400\n",
    "Src_project = 11401"
   ]
  },
  {
   "cell_type": "code",
   "execution_count": null,
   "metadata": {
    "collapsed": true
   },
   "outputs": [],
   "source": [
    "def DFG_dihedral(trajectories,def_DFG):\n",
    "\n",
    "    dihedral = []\n",
    "\n",
    "    for traj in trajectories:\n",
    "\n",
    "        dihedral.append(md.compute_dihedrals(traj,[def_DFG]))\n",
    "\n",
    "    flattened_dihedral = np.asarray([val for sublist in dihedral for val in sublist])\n",
    "\n",
    "    return [flattened_dihedral]\n",
    "\n",
    "def DFG_dihedral_byrun(project,runs,def_DFG):\n",
    "    \n",
    "    dihedral = []\n",
    "    dihedral_combinetrajs = []\n",
    "    print \"Working on project %s.\" % project\n",
    "\n",
    "    for run in range(runs):\n",
    "     \n",
    "        trajectories = dataset.MDTrajDataset(\"/cbio/jclab/projects/fah/fah-data/munged2/no-solvent/%d/run%d-clone*.h5\" % (project,run))\n",
    "        print \"Run %s has %s trajectories.\" % (run,len(trajectories))        \n",
    "\n",
    "        for traj in trajectories:\n",
    "\n",
    "            dihedral_combinetrajs.append(md.compute_dihedrals(traj,[def_DFG]))\n",
    "        # flatten\n",
    "        dihedral_combinetrajs = [val for sublist in dihedral_combinetrajs for val in sublist]\n",
    "\n",
    "        dihedral.append(dihedral_combinetrajs) \n",
    "        dihedral_combinetrajs = []\n",
    "\n",
    "    dihedral = np.asarray([dihedral])\n",
    "\n",
    "    return [dihedral]\n",
    "\n",
    "#[Abl_dihedral] = DFG_dihedral_byrun(Abl_project, Abl_runs, Abl_DFG)\n",
    "#[Src_dihedral] = DFG_dihedral_byrun(Src_project, Src_runs, Src_DFG)\n",
    "\n",
    "#np.save('Abl_dihedral_newsims_separate.npy',Abl_dihedral)\n",
    "#np.save('Src_dihedral_newsims_separate.npy',Src_dihedral)\n",
    "\n",
    "Abl_dihedral = np.load('Abl_dihedral_newsims_separate.npy')\n",
    "Src_dihedral = np.load('Src_dihedral_newsims_separate.npy')\n",
    "\n",
    "# Calculate dihedral at the first frame of clone0 of each run\n",
    "\n",
    "Abl_firstframes = [traj[0] for traj in Abl_trajectories_0]\n",
    "Src_firstframes = [traj[0] for traj in Src_trajectories_0]\n",
    "\n",
    "[Abl_lines] = DFG_dihedral(Abl_firstframes, Abl_DFG)\n",
    "[Src_lines] = DFG_dihedral(Src_firstframes, Src_DFG)\n",
    "\n",
    "\n"
   ]
  },
  {
   "cell_type": "code",
   "execution_count": null,
   "metadata": {
    "collapsed": true
   },
   "outputs": [],
   "source": [
    "# Rotate dihedral so histogram doesn't get cut in figure\n",
    "import math\n",
    "\n",
    "Abl_rotate = [ np.array( [A-(2*math.pi) if A >= 1.9 else A for A in run ] ) for run in Abl_dihedral[0] ]\n",
    "Src_rotate = [ np.array( [S-(2*math.pi) if S >= 1.9 else S for S in run ] ) for run in Src_dihedral[0] ]\n",
    "\n",
    "Abl_line_rotate =  [A-(2*math.pi) if A >= 1.9 else A for A in Abl_lines]\n",
    "Src_line_rotate =  [S-(2*math.pi) if S >= 1.9 else S for S in Src_lines]\n",
    "\n",
    "# Define which sims start in DFG-in vs DFG-out conformation\n",
    "Abl_line_rotate = np.asarray(Abl_line_rotate)\n",
    "Src_line_rotate = np.asarray(Src_line_rotate)\n",
    "\n",
    "Abl_DFG_in = np.where(Abl_line_rotate > -0.5)\n",
    "Abl_DFG_out = np.where(Abl_line_rotate < -0.5)\n",
    "\n",
    "Src_DFG_in = np.where(Src_line_rotate > -0.5)\n",
    "Src_DFG_out = np.where(Src_line_rotate < -0.5)\n",
    "\n",
    "# Accumulate these in a loop.\n",
    "abl_in = np.vstack([ Abl_rotate[index] for index in Abl_DFG_in[0]])\n",
    "src_in = np.vstack([ Src_rotate[index] for index in Src_DFG_in[0]])\n",
    "abl_out = np.vstack([ Abl_rotate[index] for index in Abl_DFG_out[0]])\n",
    "src_out = np.vstack([ Src_rotate[index] for index in Src_DFG_out[0]])\n",
    "\n"
   ]
  },
  {
   "cell_type": "code",
   "execution_count": null,
   "metadata": {
    "collapsed": true
   },
   "outputs": [],
   "source": [
    "# Plot vertical lines at dihedral for first frames\n",
    "#for i in range(len(Abl_line_rotate)):\n",
    "#        plt.axvline(Abl_line_rotate[i], color=\"r\")\n",
    "#for i in range(len(Src_line_rotate)):\n",
    "#        plt.axvline(Src_line_rotate[i], color=\"b\")\n",
    "#plt.vline can set y range.\n",
    "\n",
    "#Plot just vertical lines for Src DFG out\n",
    "\n",
    "Src_line_rotate_out = np.vstack([ Src_line_rotate[index] for index in Src_DFG_out[0]])\n",
    "Src_line_rotate_in = np.vstack([ Src_line_rotate[index] for index in Src_DFG_in[0]])\n",
    "\n",
    "for i in range(len(Src_line_rotate_in)):\n",
    "        plt.axvline(Src_line_rotate_in[i], color=\"b\", ymin=0.95)\n",
    "for i in range(len(Src_line_rotate_out)):\n",
    "        plt.axvline(Src_line_rotate_out[i], color=\"g\", ymin=0.95)\n",
    "\n",
    "# Plot histogram with special seaborn sauce\n",
    "#sns.distplot(abl_in, color=\"r\",label=\"Abl - in (%s) \" %len(Abl_DFG_in[0]) )\n",
    "#sns.distplot(abl_out, color=\"m\",label=\"Abl - out (%s) \" %len(Abl_DFG_out[0]) )\n",
    "sns.distplot(src_in, color=\"b\",label=\"Src - in (%s) \" %len(Src_DFG_in[0]) )\n",
    "sns.distplot(src_out, color=\"g\",label=\"Src - out (%s)\" %len(Src_DFG_out[0]) )\n",
    "\n",
    "plt.xlabel('Dihedral (radians)')\n",
    "plt.ylabel('Occupancy')\n",
    "plt.legend()"
   ]
  },
  {
   "cell_type": "code",
   "execution_count": null,
   "metadata": {
    "collapsed": true
   },
   "outputs": [],
   "source": []
  },
  {
   "cell_type": "code",
   "execution_count": null,
   "metadata": {
    "collapsed": true
   },
   "outputs": [],
   "source": []
  },
  {
   "cell_type": "code",
   "execution_count": null,
   "metadata": {
    "collapsed": true
   },
   "outputs": [],
   "source": []
  }
 ],
 "metadata": {
  "kernelspec": {
   "display_name": "Python 2",
   "language": "python",
   "name": "python2"
  },
  "language_info": {
   "codemirror_mode": {
    "name": "ipython",
    "version": 2
   },
   "file_extension": ".py",
   "mimetype": "text/x-python",
   "name": "python",
   "nbconvert_exporter": "python",
   "pygments_lexer": "ipython2",
   "version": "2.7.11"
  }
 },
 "nbformat": 4,
 "nbformat_minor": 0
}
