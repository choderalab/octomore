{
 "cells": [
  {
   "cell_type": "code",
   "execution_count": 1,
   "metadata": {
    "collapsed": false
   },
   "outputs": [],
   "source": [
    "import openpathsampling as paths\n",
    "import octomore\n",
    "import math"
   ]
  },
  {
   "cell_type": "code",
   "execution_count": 2,
   "metadata": {
    "collapsed": false
   },
   "outputs": [],
   "source": [
    "DFG_Abl_sim = octomore.DFG(output_file=\"DFG_Abl.nc\", kinase=octomore.Abl)"
   ]
  },
  {
   "cell_type": "code",
   "execution_count": 3,
   "metadata": {
    "collapsed": false
   },
   "outputs": [
    {
     "data": {
      "text/plain": [
       "array(-2.5777428150177, dtype=float32)"
      ]
     },
     "execution_count": 3,
     "metadata": {},
     "output_type": "execute_result"
    }
   ],
   "source": [
    "DFG_Abl_sim.dfg(DFG_Abl_sim.engine.template)"
   ]
  },
  {
   "cell_type": "code",
   "execution_count": 4,
   "metadata": {
    "collapsed": true
   },
   "outputs": [],
   "source": [
    "interfaces = paths.VolumeFactory.CVRangeVolumePeriodicSet(DFG_Abl_sim.cv, \n",
    "                                                          minvals=-3.1, \n",
    "                                                          maxvals=[0.0, 0.1, 0.2],\n",
    "                                                          period_min=-math.pi, period_max=math.pi)"
   ]
  },
  {
   "cell_type": "code",
   "execution_count": 5,
   "metadata": {
    "collapsed": false
   },
   "outputs": [],
   "source": [
    "ratcheter = DFG_Abl_sim.ratcheter(interfaces, direction=\"in_out\")"
   ]
  },
  {
   "cell_type": "code",
   "execution_count": 6,
   "metadata": {
    "collapsed": false
   },
   "outputs": [
    {
     "name": "stdout",
     "output_type": "stream",
     "text": [
      "DONE! Completed Bootstrapping cycle step 2 in ensemble 3/3 .\n",
      "\n"
     ]
    }
   ],
   "source": [
    "gs = ratcheter.run(100)"
   ]
  },
  {
   "cell_type": "code",
   "execution_count": 7,
   "metadata": {
    "collapsed": false
   },
   "outputs": [
    {
     "data": {
      "text/plain": [
       "<openpathsampling.sample.SampleSet at 0x1125821d0>"
      ]
     },
     "execution_count": 7,
     "metadata": {},
     "output_type": "execute_result"
    }
   ],
   "source": [
    "gs"
   ]
  },
  {
   "cell_type": "code",
   "execution_count": 8,
   "metadata": {
    "collapsed": false
   },
   "outputs": [
    {
     "data": {
      "text/plain": [
       "[<Sample @ 0x1124d17d0>, <Sample @ 0x1124d1750>, <Sample @ 0x1124d1ed0>]"
      ]
     },
     "execution_count": 8,
     "metadata": {},
     "output_type": "execute_result"
    }
   ],
   "source": [
    "gs.samples"
   ]
  },
  {
   "cell_type": "code",
   "execution_count": 9,
   "metadata": {
    "collapsed": false
   },
   "outputs": [
    {
     "name": "stdout",
     "output_type": "stream",
     "text": [
      "Replica: 0\n",
      "Trajectory: Trajectory[3]\n",
      "Ensemble: <openpathsampling.ensemble.TISEnsemble object at 0x1130088d0>\n",
      "\n",
      "Replica: 1\n",
      "Trajectory: Trajectory[3]\n",
      "Ensemble: <openpathsampling.ensemble.TISEnsemble object at 0x113008c90>\n",
      "\n",
      "Replica: 2\n",
      "Trajectory: Trajectory[3]\n",
      "Ensemble: <openpathsampling.ensemble.TISEnsemble object at 0x112feb250>\n",
      "\n"
     ]
    }
   ],
   "source": [
    "for s in gs:\n",
    "    print s"
   ]
  },
  {
   "cell_type": "code",
   "execution_count": 10,
   "metadata": {
    "collapsed": false
   },
   "outputs": [
    {
     "data": {
      "text/plain": [
       "12"
      ]
     },
     "execution_count": 10,
     "metadata": {},
     "output_type": "execute_result"
    }
   ],
   "source": [
    "len(DFG_Abl_sim.storage.snapshots)"
   ]
  },
  {
   "cell_type": "code",
   "execution_count": 11,
   "metadata": {
    "collapsed": false
   },
   "outputs": [
    {
     "name": "stdout",
     "output_type": "stream",
     "text": [
      "[-2.89152861 -3.1380825  -2.97842407]\n",
      "[-2.88067675 -3.1380825  -2.97842407]\n",
      "[-2.88067675 -3.1380825  -2.97842407]\n"
     ]
    }
   ],
   "source": [
    "for samp in gs:\n",
    "    print DFG_Abl_sim.cv(samp)"
   ]
  },
  {
   "cell_type": "code",
   "execution_count": 12,
   "metadata": {
    "collapsed": true
   },
   "outputs": [],
   "source": [
    "import mdtraj as md\n",
    "mtraj = md.load(\"sim-snippets/dozen_frames_abl.xtc\", top=\"sim-snippets/abl_ref.pdb\")"
   ]
  },
  {
   "cell_type": "code",
   "execution_count": 13,
   "metadata": {
    "collapsed": false
   },
   "outputs": [
    {
     "data": {
      "text/plain": [
       "12"
      ]
     },
     "execution_count": 13,
     "metadata": {},
     "output_type": "execute_result"
    }
   ],
   "source": [
    "len(mtraj)"
   ]
  },
  {
   "cell_type": "code",
   "execution_count": 14,
   "metadata": {
    "collapsed": false
   },
   "outputs": [],
   "source": [
    "ops_traj = paths.Trajectory.from_mdtraj(mtraj)"
   ]
  },
  {
   "cell_type": "code",
   "execution_count": 15,
   "metadata": {
    "collapsed": true
   },
   "outputs": [],
   "source": [
    "for frame in ops_traj:\n",
    "    frame.configuration.topology = DFG_Abl_sim.engine.topology"
   ]
  },
  {
   "cell_type": "code",
   "execution_count": 16,
   "metadata": {
    "collapsed": false
   },
   "outputs": [
    {
     "data": {
      "text/plain": [
       "array([-2.57774401, -2.9407959 , -2.51462626,  3.09361959, -2.31360078,\n",
       "       -2.86412597,  2.94984746,  2.78013468, -3.09717703,  2.76731896,\n",
       "       -2.78632021,  3.01495481], dtype=float32)"
      ]
     },
     "execution_count": 16,
     "metadata": {},
     "output_type": "execute_result"
    }
   ],
   "source": [
    "DFG_Abl_sim.cv(ops_traj)"
   ]
  },
  {
   "cell_type": "code",
   "execution_count": null,
   "metadata": {
    "collapsed": true
   },
   "outputs": [],
   "source": []
  }
 ],
 "metadata": {
  "kernelspec": {
   "display_name": "Python 2",
   "language": "python",
   "name": "python2"
  },
  "language_info": {
   "codemirror_mode": {
    "name": "ipython",
    "version": 2
   },
   "file_extension": ".py",
   "mimetype": "text/x-python",
   "name": "python",
   "nbconvert_exporter": "python",
   "pygments_lexer": "ipython2",
   "version": "2.7.10"
  }
 },
 "nbformat": 4,
 "nbformat_minor": 0
}
